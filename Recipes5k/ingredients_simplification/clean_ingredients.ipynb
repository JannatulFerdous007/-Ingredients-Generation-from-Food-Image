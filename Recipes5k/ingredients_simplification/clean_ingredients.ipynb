{
 "cells": [
  {
   "cell_type": "code",
   "execution_count": 1,
   "metadata": {},
   "outputs": [],
   "source": [
    "def readIngredientsDictionary(file):\n",
    "\n",
    "    ing2idx = dict()\n",
    "    count_ing = 0\n",
    "    with open(file, 'r') as file:\n",
    "        for line in file:\n",
    "            line = line.rstrip('\\n').split(',')\n",
    "            for ing in line:\n",
    "                ing = ing.strip().lower()\n",
    "                if ing not in ing2idx.keys():\n",
    "                    ing2idx[ing] = count_ing\n",
    "                    count_ing += 1\n",
    "\n",
    "    idx2ing = {v: k for k, v in ing2idx.items()}\n",
    "\n",
    "\n",
    "    #return ing2idx, idx2ing\n",
    "    return ing2idx.keys()"
   ]
  },
  {
   "cell_type": "code",
   "execution_count": 2,
   "metadata": {},
   "outputs": [],
   "source": [
    "def readBlacklist(file):\n",
    "\n",
    "    blacklist = []\n",
    "    with open(file, 'r') as file:\n",
    "        for line in file:\n",
    "            line = line.rstrip('\\n').strip().lower()\n",
    "            blacklist.append(line)\n",
    "\n",
    "    return blacklist"
   ]
  },
  {
   "cell_type": "code",
   "execution_count": 3,
   "metadata": {},
   "outputs": [],
   "source": [
    "def readBaseIngredients(file):\n",
    "\n",
    "    base_ingredients = []\n",
    "    with open(file, 'r') as file:\n",
    "        for line in file:\n",
    "            line = line.rstrip('\\n').split(',')\n",
    "            for ing in line:\n",
    "                ing = ing.strip().lower()\n",
    "                base_ingredients.append(ing)\n",
    "\n",
    "    return base_ingredients"
   ]
  },
  {
   "cell_type": "code",
   "execution_count": 4,
   "metadata": {},
   "outputs": [],
   "source": [
    "def buildIngredientsMapping(ingredients, blacklist, base_ingredients=None):\n",
    "\n",
    "    ing_mapping = dict()\n",
    "    new_ing = []\n",
    "    # Iterate over each ingredient\n",
    "    for ing in ingredients:\n",
    "        old_ing = ing.strip()\n",
    "\n",
    "        # Clean ingredient name with all blacklist terms\n",
    "        ing_parts = ing.split()\n",
    "        for b in blacklist:\n",
    "            if b in ing_parts:\n",
    "                pos_b = ing_parts.index(b)\n",
    "                ing_parts = ing_parts[:pos_b]+ing_parts[pos_b+1:]\n",
    "        ing = ' '.join(ing_parts).strip()\n",
    "\n",
    "        # Simplify ingredients if contained in base_ingredients list\n",
    "        found = False\n",
    "        i = 0\n",
    "        while not found and i < len(base_ingredients):\n",
    "            if base_ingredients[i] in ing:\n",
    "                ing = base_ingredients[i]\n",
    "                found = True\n",
    "            i += 1\n",
    "\n",
    "        # Found a new basic ingredient\n",
    "        if ing not in new_ing:\n",
    "            new_ing.append(ing)\n",
    "            idx = len(new_ing)-1\n",
    "        else: # Found a matching with an already existent basic ingredient\n",
    "            idx = new_ing.index(ing)\n",
    "\n",
    "        # Insert in mapping\n",
    "        ing_mapping[old_ing] = idx\n",
    "\n",
    "    return new_ing, ing_mapping"
   ]
  },
  {
   "cell_type": "code",
   "execution_count": 5,
   "metadata": {},
   "outputs": [],
   "source": [
    "def generateSimplifiedAnnotations(in_list, out_list, clean_list, mapping):\n",
    "\n",
    "    simplified_ingredients = []\n",
    "    with open(in_list, 'r') as in_list:\n",
    "        for line in in_list:\n",
    "            line = line.rstrip('\\n').split(',')\n",
    "            # Store all simplified ingredients for each recipe in the list\n",
    "            simplified_ingredients.append([clean_list[mapping[ing.lower().strip()]] for ing in line])\n",
    "\n",
    "    with open(out_list, 'w') as out_list:\n",
    "        for recipe in simplified_ingredients:\n",
    "            recipe = [ing for ing in recipe if ing]\n",
    "            recipe = ','.join(recipe)+'\\n'\n",
    "            out_list.write(recipe)"
   ]
  },
  {
   "cell_type": "code",
   "execution_count": 6,
   "metadata": {},
   "outputs": [
    {
     "name": "stdout",
     "output_type": "stream",
     "text": [
      "Unique ingredients: 3213\n",
      "Blacklist terms: 268\n",
      "Base ingredients: 1095\n",
      "Clean ingredients: 1014\n",
      "Writing simplified list of ingredients...\n",
      "Done!\n"
     ]
    }
   ],
   "source": [
    "\n",
    "if __name__ == \"__main__\":\n",
    "    #ing2idx, idx2ing = readIngredientsDictionary('ingredients_Recipes5k.txt')\n",
    "    ingredients = readIngredientsDictionary('../annotations/ingredients_Recipes5k.txt')\n",
    "    print('Unique ingredients:', len(ingredients))\n",
    "    blacklist = readBlacklist('blacklist.txt')\n",
    "    print('Blacklist terms:', len(blacklist))\n",
    "    base_ingredients = readBaseIngredients('baseIngredients.txt')\n",
    "    print('Base ingredients:', len(base_ingredients))\n",
    "    clean_ingredients_list, raw2clean_mapping = buildIngredientsMapping(ingredients, blacklist,\n",
    "                                                                        base_ingredients=base_ingredients)\n",
    "    print('Clean ingredients:', len(clean_ingredients_list))\n",
    "\n",
    "    #print clean_ingredients_list\n",
    "\n",
    "    # Generate training files for simplified list of ingredients\n",
    "    input_all_list = '../annotations/ingredients_Recipes5k.txt'\n",
    "    output_all_list = '../annotations/ingredients_simplified_Recipes5k.txt'\n",
    "    print('Writing simplified list of ingredients...')\n",
    "    generateSimplifiedAnnotations(input_all_list, output_all_list, clean_ingredients_list, raw2clean_mapping)\n",
    "\n",
    "\n",
    "    print('Done!')"
   ]
  },
  {
   "cell_type": "code",
   "execution_count": null,
   "metadata": {},
   "outputs": [],
   "source": []
  }
 ],
 "metadata": {
  "kernelspec": {
   "display_name": "base",
   "language": "python",
   "name": "python3"
  },
  "language_info": {
   "codemirror_mode": {
    "name": "ipython",
    "version": 3
   },
   "file_extension": ".py",
   "mimetype": "text/x-python",
   "name": "python",
   "nbconvert_exporter": "python",
   "pygments_lexer": "ipython3",
   "version": "3.9.13"
  },
  "orig_nbformat": 4
 },
 "nbformat": 4,
 "nbformat_minor": 2
}
